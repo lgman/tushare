{
 "cells": [
  {
   "cell_type": "markdown",
   "metadata": {},
   "source": [
    "# 《type-元类-类-对象-对象的属性和方法：深入探讨》\n",
    "\n",
    "# 道生一，一生二，二生三，三生万物\n",
    "\n",
    "# type生元类，元类生类，类生对象，对象有各种属性和方法（函数）\n",
    "\n",
    "# type是道，元类是一，类是二，对象是三，对象的方法和属性是四\n",
    "\n",
    "# type既然是道，可以生元类，也可以直接生类"
   ]
  },
  {
   "cell_type": "markdown",
   "metadata": {},
   "source": [
    "## 类-对象-对象的属性和方法：探讨"
   ]
  },
  {
   "cell_type": "markdown",
   "metadata": {},
   "source": [
    "### 创建类"
   ]
  },
  {
   "cell_type": "code",
   "execution_count": 52,
   "metadata": {},
   "outputs": [
    {
     "name": "stdout",
     "output_type": "stream",
     "text": [
      "<class '__main__.objectcreator'>\n"
     ]
    }
   ],
   "source": [
    "class objectcreator(object):pass  #定义objectcreaotr类型，定义即创建\n",
    "print(objectcreator)"
   ]
  },
  {
   "cell_type": "markdown",
   "metadata": {},
   "source": [
    "### 查看对象的类型，对象的类型是类，objectcreator()对象的类型是objectcreator类"
   ]
  },
  {
   "cell_type": "code",
   "execution_count": 53,
   "metadata": {},
   "outputs": [
    {
     "name": "stdout",
     "output_type": "stream",
     "text": [
      "<class '__main__.objectcreator'>\n"
     ]
    }
   ],
   "source": [
    "print(objectcreator().__class__)"
   ]
  },
  {
   "cell_type": "code",
   "execution_count": 54,
   "metadata": {},
   "outputs": [
    {
     "name": "stdout",
     "output_type": "stream",
     "text": [
      "<class '__main__.objectcreator'>\n"
     ]
    }
   ],
   "source": [
    "print(type(objectcreator()))"
   ]
  },
  {
   "cell_type": "markdown",
   "metadata": {},
   "source": [
    "### 查看类的类型（class.__class__）：类的类型是type，objectcreator类的类型是type"
   ]
  },
  {
   "cell_type": "code",
   "execution_count": 55,
   "metadata": {},
   "outputs": [
    {
     "name": "stdout",
     "output_type": "stream",
     "text": [
      "<class 'type'>\n"
     ]
    }
   ],
   "source": [
    "print(objectcreator.__class__)"
   ]
  },
  {
   "cell_type": "code",
   "execution_count": 62,
   "metadata": {},
   "outputs": [
    {
     "name": "stdout",
     "output_type": "stream",
     "text": [
      "<class 'type'>\n"
     ]
    }
   ],
   "source": [
    "print(type(objectcreator))"
   ]
  },
  {
   "cell_type": "markdown",
   "metadata": {},
   "source": [
    "### 查看类的类型的类型，类的类型的类型是type"
   ]
  },
  {
   "cell_type": "code",
   "execution_count": 56,
   "metadata": {},
   "outputs": [
    {
     "name": "stdout",
     "output_type": "stream",
     "text": [
      "<class 'type'>\n"
     ]
    }
   ],
   "source": [
    "print(objectcreator.__class__.__class__)"
   ]
  },
  {
   "cell_type": "code",
   "execution_count": 61,
   "metadata": {},
   "outputs": [
    {
     "name": "stdout",
     "output_type": "stream",
     "text": [
      "<class 'type'>\n"
     ]
    }
   ],
   "source": [
    "print(type(objectcreator.__class__))"
   ]
  },
  {
   "cell_type": "markdown",
   "metadata": {},
   "source": [
    "### 查看type的类型（type是类的类型），type由自身创建，type的类型是type"
   ]
  },
  {
   "cell_type": "code",
   "execution_count": 57,
   "metadata": {},
   "outputs": [
    {
     "name": "stdout",
     "output_type": "stream",
     "text": [
      "<class 'type'>\n"
     ]
    }
   ],
   "source": [
    "print(type.__class__)"
   ]
  },
  {
   "cell_type": "code",
   "execution_count": 60,
   "metadata": {},
   "outputs": [
    {
     "name": "stdout",
     "output_type": "stream",
     "text": [
      "<class 'type'>\n"
     ]
    }
   ],
   "source": [
    "print(type(type))"
   ]
  },
  {
   "cell_type": "markdown",
   "metadata": {},
   "source": [
    "### 查看object类的类型，object类的类型是type"
   ]
  },
  {
   "cell_type": "code",
   "execution_count": 58,
   "metadata": {},
   "outputs": [
    {
     "name": "stdout",
     "output_type": "stream",
     "text": [
      "<class 'type'>\n"
     ]
    }
   ],
   "source": [
    "print(object.__class__)"
   ]
  },
  {
   "cell_type": "code",
   "execution_count": 59,
   "metadata": {},
   "outputs": [
    {
     "name": "stdout",
     "output_type": "stream",
     "text": [
      "<class 'type'>\n"
     ]
    }
   ],
   "source": [
    "print(type(object))"
   ]
  },
  {
   "cell_type": "markdown",
   "metadata": {},
   "source": [
    "### 函数可以传入各种参数，下面例子中分别以type,object,objectcreator,objectcreator()为参数，并打印出参数类型"
   ]
  },
  {
   "cell_type": "code",
   "execution_count": 42,
   "metadata": {},
   "outputs": [],
   "source": [
    "def echo(o):print(type(o))  #定义了一个函数，可以把对象，类，type等等当做参数传入，并打印出参数的类型"
   ]
  },
  {
   "cell_type": "code",
   "execution_count": 43,
   "metadata": {},
   "outputs": [
    {
     "name": "stdout",
     "output_type": "stream",
     "text": [
      "<class 'type'>\n"
     ]
    }
   ],
   "source": [
    "echo(type)  #输出type的类型，结果是type"
   ]
  },
  {
   "cell_type": "code",
   "execution_count": 44,
   "metadata": {},
   "outputs": [
    {
     "name": "stdout",
     "output_type": "stream",
     "text": [
      "<class 'type'>\n"
     ]
    }
   ],
   "source": [
    "echo(object)  #输出object类的类型，结果是type"
   ]
  },
  {
   "cell_type": "code",
   "execution_count": 46,
   "metadata": {},
   "outputs": [
    {
     "name": "stdout",
     "output_type": "stream",
     "text": [
      "<class 'type'>\n"
     ]
    }
   ],
   "source": [
    "echo(objectcreator)   #输出objectcreator类的类型，结果是type"
   ]
  },
  {
   "cell_type": "code",
   "execution_count": 48,
   "metadata": {},
   "outputs": [
    {
     "name": "stdout",
     "output_type": "stream",
     "text": [
      "<class '__main__.objectcreator'>\n"
     ]
    }
   ],
   "source": [
    "echo(objectcreator())   #输出objectcreator对象的类型，对象由类创建，对象的类型是class，objectcreator()对象的类型是objectcreator类"
   ]
  },
  {
   "cell_type": "code",
   "execution_count": 13,
   "metadata": {},
   "outputs": [
    {
     "name": "stdout",
     "output_type": "stream",
     "text": [
      "<class '__main__.objectcreator'>\n"
     ]
    }
   ],
   "source": [
    "echo(objectcreator().__class__)  #通过对象的__class__属性查看对象的类型,对象的类型是class，objectcreator()对象的类型是objectcreator类"
   ]
  },
  {
   "cell_type": "code",
   "execution_count": 14,
   "metadata": {},
   "outputs": [
    {
     "name": "stdout",
     "output_type": "stream",
     "text": [
      "<class 'type'>\n"
     ]
    }
   ],
   "source": [
    "echo(objectcreator.__class__)   #通过类的__class__属性查看类的类型，类的类型是type，objectcreator类的类型是type"
   ]
  },
  {
   "cell_type": "code",
   "execution_count": 15,
   "metadata": {},
   "outputs": [
    {
     "name": "stdout",
     "output_type": "stream",
     "text": [
      "<class 'type'>\n"
     ]
    }
   ],
   "source": [
    "echo(objectcreator.__class__.__class__)  #objectcreaotr.__class__是type，type的类型是type自身"
   ]
  },
  {
   "cell_type": "markdown",
   "metadata": {},
   "source": [
    "### 给objectcreator类动态添加属性"
   ]
  },
  {
   "cell_type": "code",
   "execution_count": 16,
   "metadata": {},
   "outputs": [],
   "source": [
    "objectcreator.my_attribute = 'foot'  #给objectcreaotr对象添加新属性my_attribute，并赋值'foot'"
   ]
  },
  {
   "cell_type": "code",
   "execution_count": 18,
   "metadata": {},
   "outputs": [
    {
     "name": "stdout",
     "output_type": "stream",
     "text": [
      "True\n"
     ]
    }
   ],
   "source": [
    "print(hasattr(objectcreator,'my_attribute'))"
   ]
  },
  {
   "cell_type": "markdown",
   "metadata": {},
   "source": [
    "### 将类objectcreator赋值给一个变量，这个变量也成了objectcreator类"
   ]
  },
  {
   "cell_type": "code",
   "execution_count": 19,
   "metadata": {},
   "outputs": [],
   "source": [
    "objectcreatormirror = objectcreator"
   ]
  },
  {
   "cell_type": "code",
   "execution_count": 63,
   "metadata": {},
   "outputs": [
    {
     "name": "stdout",
     "output_type": "stream",
     "text": [
      "<class '__main__.objectcreator'>\n"
     ]
    }
   ],
   "source": [
    "print(objectcreator)  #输出objectcreator的类型"
   ]
  },
  {
   "cell_type": "code",
   "execution_count": 20,
   "metadata": {},
   "outputs": [
    {
     "name": "stdout",
     "output_type": "stream",
     "text": [
      "<class '__main__.objectcreator'>\n"
     ]
    }
   ],
   "source": [
    "print(objectcreatormirror)  #输出objectcreatormirror的类型"
   ]
  },
  {
   "cell_type": "code",
   "execution_count": 21,
   "metadata": {},
   "outputs": [
    {
     "name": "stdout",
     "output_type": "stream",
     "text": [
      "<__main__.objectcreator object at 0x000000000ED0C908>\n"
     ]
    }
   ],
   "source": [
    "print(objectcreatormirror())  #输出objectcreatormirror创建的对象，是objectcreator对象"
   ]
  },
  {
   "cell_type": "code",
   "execution_count": 22,
   "metadata": {},
   "outputs": [
    {
     "name": "stdout",
     "output_type": "stream",
     "text": [
      "<__main__.objectcreator object at 0x000000000ED0CA90>\n"
     ]
    }
   ],
   "source": [
    "print(objectcreator())  #输出objectcreator创建的对象，是objectcreator对象"
   ]
  },
  {
   "cell_type": "markdown",
   "metadata": {},
   "source": [
    "### 使用函数动态创建类，并查看这个类、这个类的类型、以及这个类创建的对象"
   ]
  },
  {
   "cell_type": "code",
   "execution_count": 23,
   "metadata": {},
   "outputs": [
    {
     "name": "stdout",
     "output_type": "stream",
     "text": [
      "<class '__main__.choose_class.<locals>.foot'>\n",
      "<class 'type'>\n",
      "<__main__.choose_class.<locals>.foot object at 0x000000000ED0CD68>\n"
     ]
    }
   ],
   "source": [
    "def choose_class(name):\n",
    "    if name == 'foot':\n",
    "        class foot(object):\n",
    "            pass\n",
    "        return foot\n",
    "    else:\n",
    "        class hand(object):\n",
    "            pass\n",
    "        return hand\n",
    "\n",
    "myclass = choose_class('foot')\n",
    "print(myclass)\n",
    "print(myclass.__class__)\n",
    "print(myclass())"
   ]
  },
  {
   "cell_type": "markdown",
   "metadata": {},
   "source": [
    "### 给上面创建的类动态添加属性，输出属性默认值，接着创建对象，输出对象的该属性"
   ]
  },
  {
   "cell_type": "code",
   "execution_count": 25,
   "metadata": {},
   "outputs": [
    {
     "name": "stdout",
     "output_type": "stream",
     "text": [
      "1234\n"
     ]
    }
   ],
   "source": [
    "myclass.new_attribute1 = '1234'\n",
    "print(myclass.new_attribute1)"
   ]
  },
  {
   "cell_type": "code",
   "execution_count": 26,
   "metadata": {},
   "outputs": [
    {
     "name": "stdout",
     "output_type": "stream",
     "text": [
      "1234\n"
     ]
    }
   ],
   "source": [
    "myobject = myclass()\n",
    "print(myobject.new_attribute1)"
   ]
  },
  {
   "cell_type": "markdown",
   "metadata": {},
   "source": [
    "### 使用type创建类，并查看类、类的类型；添加新属性，输出类的该属性、对象的该属性，为类添加方法(函数)，并调用"
   ]
  },
  {
   "cell_type": "code",
   "execution_count": 30,
   "metadata": {},
   "outputs": [
    {
     "name": "stdout",
     "output_type": "stream",
     "text": [
      "<class '__main__.MyShinyClass'>\n"
     ]
    }
   ],
   "source": [
    "MyShinyClass = type('MyShinyClass',(),{})\n",
    "print(MyShinyClass)"
   ]
  },
  {
   "cell_type": "code",
   "execution_count": 31,
   "metadata": {},
   "outputs": [
    {
     "name": "stdout",
     "output_type": "stream",
     "text": [
      "<class 'type'>\n"
     ]
    }
   ],
   "source": [
    "print(MyShinyClass.__class__)"
   ]
  },
  {
   "cell_type": "code",
   "execution_count": 33,
   "metadata": {},
   "outputs": [
    {
     "name": "stdout",
     "output_type": "stream",
     "text": [
      "2 foot\n",
      "2 foot\n"
     ]
    }
   ],
   "source": [
    "MyShinyClass.foot = '2 foot'\n",
    "print(MyShinyClass().foot)\n",
    "print(MyShinyClass.foot)\n"
   ]
  },
  {
   "cell_type": "code",
   "execution_count": 36,
   "metadata": {},
   "outputs": [
    {
     "name": "stdout",
     "output_type": "stream",
     "text": [
      "<function echo at 0x0000000004AFFF28>\n",
      "<class '__main__.MyShinyClass'>\n"
     ]
    }
   ],
   "source": [
    "MyShinyClass.MyFunc = echo\n",
    "echo(echo)\n",
    "MyShinyClass.MyFunc(MyShinyClass)"
   ]
  },
  {
   "cell_type": "code",
   "execution_count": null,
   "metadata": {},
   "outputs": [],
   "source": []
  }
 ],
 "metadata": {
  "kernelspec": {
   "display_name": "Python 3",
   "language": "python",
   "name": "python3"
  },
  "language_info": {
   "codemirror_mode": {
    "name": "ipython",
    "version": 3
   },
   "file_extension": ".py",
   "mimetype": "text/x-python",
   "name": "python",
   "nbconvert_exporter": "python",
   "pygments_lexer": "ipython3",
   "version": "3.6.5"
  }
 },
 "nbformat": 4,
 "nbformat_minor": 2
}
